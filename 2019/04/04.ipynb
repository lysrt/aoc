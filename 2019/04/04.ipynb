{
 "cells": [
  {
   "cell_type": "code",
   "execution_count": 2,
   "metadata": {},
   "outputs": [],
   "source": [
    "input = '236491-713787'\n",
    "\n",
    "lower, upper = map(int, input.split('-'))"
   ]
  },
  {
   "cell_type": "code",
   "execution_count": 4,
   "metadata": {},
   "outputs": [
    {
     "name": "stdout",
     "output_type": "stream",
     "text": [
      "Part one\n",
      "1169\n",
      "Part two\n",
      "757\n"
     ]
    }
   ],
   "source": [
    "def match(n, func):\n",
    "    if len(n) != 6:\n",
    "        return False\n",
    "    \n",
    "    if any(n[i] > n[i+1] for i in range(len(n)-1)):\n",
    "        return False\n",
    "    \n",
    "    counts = [n.count(char) for char in set(n)]\n",
    "    return any(func(c) for c in counts)\n",
    "    \n",
    "print(\"Part one\")\n",
    "part1 = sum([match(str(n), lambda x: x >= 2) for n in range(lower, upper+1)])\n",
    "print(part1)\n",
    "\n",
    "\n",
    "print(\"Part two\")\n",
    "part2 = sum([match(str(n), lambda x: x == 2) for n in range(lower, upper+1)])\n",
    "print(part2)"
   ]
  }
 ],
 "metadata": {
  "kernelspec": {
   "display_name": "Python 3",
   "language": "python",
   "name": "python3"
  },
  "language_info": {
   "codemirror_mode": {
    "name": "ipython",
    "version": 3
   },
   "file_extension": ".py",
   "mimetype": "text/x-python",
   "name": "python",
   "nbconvert_exporter": "python",
   "pygments_lexer": "ipython3",
   "version": "3.7.2"
  }
 },
 "nbformat": 4,
 "nbformat_minor": 2
}
