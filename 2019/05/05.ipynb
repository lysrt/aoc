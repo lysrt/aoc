{
 "cells": [
  {
   "cell_type": "code",
   "execution_count": 84,
   "metadata": {},
   "outputs": [],
   "source": [
    "with open('input', 'r') as f:\n",
    "    content = f.read()\n",
    "    ints = [int(v) for v in content.split(',')]"
   ]
  },
  {
   "cell_type": "code",
   "execution_count": 85,
   "metadata": {},
   "outputs": [],
   "source": [
    "def input():\n",
    "    return 5\n",
    "\n",
    "def output(x):\n",
    "    print('>', x)\n",
    "\n",
    "def parse_instruction(code):\n",
    "    opcode = code % 100    \n",
    "    p1 = (code // 100) % 10\n",
    "    p2 = (code // 1000) % 10\n",
    "    p3 = (code // 10000) % 10\n",
    "    \n",
    "    return (opcode, [p1, p2 , p3])\n",
    "\n",
    "def get_value(memory, position, n, modes):\n",
    "    index = n-1\n",
    "    mode = modes[index]\n",
    "    value = memory[position+n]\n",
    "    if mode == 0:\n",
    "        return memory[value]\n",
    "    else: # 1 is immediate mode\n",
    "        return value\n",
    "\n",
    "def run_program(ints):\n",
    "    memory = list(ints)\n",
    "    position = 0\n",
    "    \n",
    "    while True:\n",
    "#         print(\"OPCODE\", memory[position])\n",
    "        instruction, modes = parse_instruction(memory[position])\n",
    "#         print(\"INSTRUCTION:\", instruction)\n",
    "\n",
    "        if instruction == 99:\n",
    "            # Halt\n",
    "            return memory\n",
    "        \n",
    "        if instruction == 1:\n",
    "            # Add\n",
    "            v1 = get_value(memory, position, 1, modes)\n",
    "            v2 = get_value(memory, position, 2, modes)            \n",
    "            op3 = memory[position+3] # op3 is always an address\n",
    "            memory[op3] = v1 + v2\n",
    "            position += 4\n",
    "            \n",
    "        elif instruction == 2:\n",
    "            # Multiply\n",
    "            v1 = get_value(memory, position, 1, modes)\n",
    "            v2 = get_value(memory, position, 2, modes)           \n",
    "            op3 = memory[position+3] # op3 is always an address\n",
    "            memory[op3] = v1 * v2\n",
    "            position += 4\n",
    "            \n",
    "        elif instruction == 3:\n",
    "            # Input\n",
    "            op1 = memory[position+1] # op1 is always an address\n",
    "            memory[op1] = input()\n",
    "            position += 2\n",
    "            \n",
    "        elif instruction == 4:\n",
    "            # Output\n",
    "            v1 = get_value(memory, position, 1, modes)\n",
    "            output(v1)\n",
    "            position += 2\n",
    "        \n",
    "        elif instruction == 5:\n",
    "            # Jump if true\n",
    "            v1 = get_value(memory, position, 1, modes)\n",
    "            v2 = get_value(memory, position, 2, modes)\n",
    "            if v1 != 0:\n",
    "                position = v2\n",
    "            else:\n",
    "                position += 3\n",
    "            \n",
    "        elif instruction == 6:\n",
    "            # Jump if false\n",
    "            v1 = get_value(memory, position, 1, modes)\n",
    "            v2 = get_value(memory, position, 2, modes)\n",
    "            if v1 == 0:\n",
    "                position = v2\n",
    "            else:\n",
    "                position += 3\n",
    "            \n",
    "        elif instruction == 7:\n",
    "            # Less than\n",
    "            v1 = get_value(memory, position, 1, modes)\n",
    "            v2 = get_value(memory, position, 2, modes)\n",
    "            op3 = memory[position+3] # op3 is always an address\n",
    "            if v1 < v2:\n",
    "                memory[op3] = 1\n",
    "            else:\n",
    "                memory[op3] = 0\n",
    "            position += 4\n",
    "            \n",
    "        elif instruction == 8:\n",
    "            # Equals\n",
    "            v1 = get_value(memory, position, 1, modes)\n",
    "            v2 = get_value(memory, position, 2, modes)\n",
    "            op3 = memory[position+3] # op3 is always an address\n",
    "            if v1 == v2:\n",
    "                memory[op3] = 1\n",
    "            else:\n",
    "                memory[op3] = 0\n",
    "            position += 4\n",
    "\n",
    "#         if position >= 10:\n",
    "#             break\n",
    "    return memory"
   ]
  },
  {
   "cell_type": "code",
   "execution_count": 86,
   "metadata": {},
   "outputs": [
    {
     "name": "stdout",
     "output_type": "stream",
     "text": [
      "Part one\n",
      "> 742621\n"
     ]
    }
   ],
   "source": [
    "print('Part one')\n",
    "memory = run_program(ints) # input = 1"
   ]
  },
  {
   "cell_type": "code",
   "execution_count": 87,
   "metadata": {},
   "outputs": [
    {
     "name": "stdout",
     "output_type": "stream",
     "text": [
      "Part two\n",
      "> 742621\n"
     ]
    }
   ],
   "source": [
    "print('Part two')\n",
    "memory = run_program(ints) # input = 5"
   ]
  }
 ],
 "metadata": {
  "kernelspec": {
   "display_name": "Python 3",
   "language": "python",
   "name": "python3"
  },
  "language_info": {
   "codemirror_mode": {
    "name": "ipython",
    "version": 3
   },
   "file_extension": ".py",
   "mimetype": "text/x-python",
   "name": "python",
   "nbconvert_exporter": "python",
   "pygments_lexer": "ipython3",
   "version": "3.7.2"
  }
 },
 "nbformat": 4,
 "nbformat_minor": 2
}
