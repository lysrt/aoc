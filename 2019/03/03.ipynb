{
 "cells": [
  {
   "cell_type": "code",
   "execution_count": 9,
   "metadata": {},
   "outputs": [],
   "source": [
    "with open('input', 'r') as f:\n",
    "    content = f.read()\n",
    "    lines = content.splitlines()\n",
    "    wire1 = lines[0].split(',')\n",
    "    wire2 = lines[1].split(',')"
   ]
  },
  {
   "cell_type": "code",
   "execution_count": 10,
   "metadata": {},
   "outputs": [],
   "source": [
    "def get_points(wire):\n",
    "    points = {}\n",
    "    directions = {'U': (0,1), 'D': (0,-1), 'L': (-1,0), 'R': (1,0)}\n",
    "    x, y = 0, 0\n",
    "    step = 0\n",
    "    for move in wire:\n",
    "        dx, dy = directions[move[0]]\n",
    "        length = int(move[1:])\n",
    "        for _ in range(length):\n",
    "            x += dx\n",
    "            y += dy\n",
    "            step += 1\n",
    "            if (x, y) not in points:\n",
    "                # points[(x,y)] = True # Part one\n",
    "                points[(x,y)] = step\n",
    "    return points"
   ]
  },
  {
   "cell_type": "code",
   "execution_count": 11,
   "metadata": {},
   "outputs": [
    {
     "name": "stdout",
     "output_type": "stream",
     "text": [
      "Part one\n",
      "8015\n"
     ]
    }
   ],
   "source": [
    "print('Part one')\n",
    "\n",
    "p1 = get_points(wire1)\n",
    "p2 = get_points(wire2)\n",
    "\n",
    "intersections = list(set(p1).intersection(set(p2)))\n",
    "# Or: i = [p for p in p1 if p in p2]\n",
    "\n",
    "part1 = min(abs(x) + abs(y) for (x, y) in intersections)\n",
    "print(part1)"
   ]
  },
  {
   "cell_type": "code",
   "execution_count": 24,
   "metadata": {},
   "outputs": [
    {
     "name": "stdout",
     "output_type": "stream",
     "text": [
      "Part two\n",
      "163676\n"
     ]
    }
   ],
   "source": [
    "print(\"Part two\")\n",
    "\n",
    "part2 = min(p1[i] + p2[i] for i in intersections)\n",
    "print(part2)"
   ]
  }
 ],
 "metadata": {
  "kernelspec": {
   "display_name": "Python 3",
   "language": "python",
   "name": "python3"
  },
  "language_info": {
   "codemirror_mode": {
    "name": "ipython",
    "version": 3
   },
   "file_extension": ".py",
   "mimetype": "text/x-python",
   "name": "python",
   "nbconvert_exporter": "python",
   "pygments_lexer": "ipython3",
   "version": "3.7.2"
  }
 },
 "nbformat": 4,
 "nbformat_minor": 2
}
