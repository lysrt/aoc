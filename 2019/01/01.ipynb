{
 "cells": [
  {
   "cell_type": "code",
   "execution_count": 1,
   "metadata": {},
   "outputs": [],
   "source": [
    "with open('input', 'r') as f:\n",
    "    content = f.read()\n",
    "    lines = content.splitlines()\n",
    "    ints = [int(l) for l in lines]"
   ]
  },
  {
   "cell_type": "code",
   "execution_count": 2,
   "metadata": {},
   "outputs": [],
   "source": [
    "def fuel_required_for_masses(module_masses):\n",
    "    fuel_required = 0\n",
    "    for mass in module_masses:\n",
    "        fuel = mass // 3 - 2\n",
    "        fuel_required += fuel\n",
    "    return fuel_required"
   ]
  },
  {
   "cell_type": "code",
   "execution_count": 3,
   "metadata": {},
   "outputs": [
    {
     "name": "stdout",
     "output_type": "stream",
     "text": [
      "Part one\n",
      "3315383\n"
     ]
    }
   ],
   "source": [
    "print(\"Part one\")\n",
    "total_mass = fuel_required_for_masses(ints)\n",
    "print(total_mass)"
   ]
  },
  {
   "cell_type": "code",
   "execution_count": 4,
   "metadata": {},
   "outputs": [],
   "source": [
    "def compute_module_fuel(mass):\n",
    "    needed_fuel = fuel_required_for_masses([mass])\n",
    "    fuel_mass = needed_fuel\n",
    "    \n",
    "    while needed_fuel > 0:\n",
    "        needed_fuel = needed_fuel // 3 - 2\n",
    "        if needed_fuel >= 0:\n",
    "            fuel_mass += needed_fuel\n",
    "        \n",
    "    return fuel_mass\n",
    "    \n",
    "def compute_total_fuel(module_masses):\n",
    "    total_fuel = sum(compute_module_fuel(mass) for mass in module_masses)    \n",
    "    return total_fuel"
   ]
  },
  {
   "cell_type": "code",
   "execution_count": 5,
   "metadata": {
    "scrolled": true
   },
   "outputs": [
    {
     "name": "stdout",
     "output_type": "stream",
     "text": [
      "Part two\n",
      "4970206\n"
     ]
    }
   ],
   "source": [
    "print(\"Part two\")\n",
    "total_fuel = compute_total_fuel(ints)\n",
    "print(total_fuel)"
   ]
  }
 ],
 "metadata": {
  "kernelspec": {
   "display_name": "Python 3",
   "language": "python",
   "name": "python3"
  },
  "language_info": {
   "codemirror_mode": {
    "name": "ipython",
    "version": 3
   },
   "file_extension": ".py",
   "mimetype": "text/x-python",
   "name": "python",
   "nbconvert_exporter": "python",
   "pygments_lexer": "ipython3",
   "version": "3.7.2"
  }
 },
 "nbformat": 4,
 "nbformat_minor": 2
}
