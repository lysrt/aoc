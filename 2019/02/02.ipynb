{
 "cells": [
  {
   "cell_type": "code",
   "execution_count": 1,
   "metadata": {},
   "outputs": [],
   "source": [
    "with open('input', 'r') as f:\n",
    "    content = f.read()\n",
    "    ints = [int(v) for v in content.split(',')]"
   ]
  },
  {
   "cell_type": "code",
   "execution_count": 2,
   "metadata": {},
   "outputs": [
    {
     "name": "stdout",
     "output_type": "stream",
     "text": [
      "Part one\n",
      "3516593\n"
     ]
    }
   ],
   "source": [
    "def run_program(ints, noun, verb):\n",
    "    # Set inputs\n",
    "    memory = list(ints)\n",
    "    \n",
    "    memory[1] = noun\n",
    "    memory[2] = verb\n",
    "    \n",
    "    position = 0\n",
    "    \n",
    "    while True:\n",
    "        instruction = memory[position]\n",
    "\n",
    "        if instruction == 99:\n",
    "            # Halt\n",
    "            return memory\n",
    "        \n",
    "        op1 = memory[position+1]\n",
    "        op2 = memory[position+2]\n",
    "        op3 = memory[position+3]\n",
    "        \n",
    "        if instruction == 1:\n",
    "            # Add\n",
    "            memory[op3] = memory[op1] + memory[op2]\n",
    "            \n",
    "        elif instruction == 2:\n",
    "            # Multiply\n",
    "            memory[op3] = memory[op1] * memory[op2]\n",
    "            \n",
    "        position += 4\n",
    "        \n",
    "    return memory\n",
    "    \n",
    "print('Part one')\n",
    "\n",
    "# Fix the space program\n",
    "noun = 12\n",
    "verb = 2\n",
    "\n",
    "# Run it\n",
    "memory = run_program(ints, noun, verb)\n",
    "\n",
    "# Get its output\n",
    "output = memory[0]\n",
    "print(output)"
   ]
  },
  {
   "cell_type": "code",
   "execution_count": 3,
   "metadata": {},
   "outputs": [
    {
     "name": "stdout",
     "output_type": "stream",
     "text": [
      "Part two\n",
      "7749\n"
     ]
    }
   ],
   "source": [
    "def find(value):\n",
    "    # Find the two input parameters that output 'value'\n",
    "    \n",
    "    for i in range(0, 100):\n",
    "        for j in range(0, 100):\n",
    "            memory = run_program(ints, i, j)\n",
    "            output = memory[0]\n",
    "            if output == value:\n",
    "                return i, j\n",
    "    \n",
    "    return None\n",
    "            \n",
    "print('Part two')\n",
    "result = find(19690720)\n",
    "\n",
    "if result:\n",
    "    noun, verb = result\n",
    "    solution = 100 * noun + verb\n",
    "    print(solution)\n",
    "else:\n",
    "    print('No result...')"
   ]
  }
 ],
 "metadata": {
  "kernelspec": {
   "display_name": "Python 3",
   "language": "python",
   "name": "python3"
  },
  "language_info": {
   "codemirror_mode": {
    "name": "ipython",
    "version": 3
   },
   "file_extension": ".py",
   "mimetype": "text/x-python",
   "name": "python",
   "nbconvert_exporter": "python",
   "pygments_lexer": "ipython3",
   "version": "3.7.2"
  }
 },
 "nbformat": 4,
 "nbformat_minor": 2
}
